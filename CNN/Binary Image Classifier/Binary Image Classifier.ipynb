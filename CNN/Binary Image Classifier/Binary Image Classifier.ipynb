{
 "cells": [
  {
   "cell_type": "markdown",
   "metadata": {},
   "source": [
    "# Binary Image Classifier in CNN"
   ]
  },
  {
   "cell_type": "markdown",
   "metadata": {},
   "source": [
    "## In this loss and accuracy good but predicting is not good.. so that, we move in LeNet"
   ]
  },
  {
   "cell_type": "code",
   "execution_count": 2,
   "metadata": {},
   "outputs": [],
   "source": [
    "from keras.models import Sequential\n",
    "from keras.layers import Conv2D\n",
    "from keras.layers import MaxPooling2D\n",
    "from keras.layers import Flatten\n",
    "from keras.layers import Dense"
   ]
  },
  {
   "cell_type": "code",
   "execution_count": 4,
   "metadata": {},
   "outputs": [],
   "source": [
    "# Initialising the CNN\n",
    "classifier = Sequential()\n",
    "\n",
    "# Step 1 - Convolution\n",
    "classifier.add(Conv2D(32, (3, 3), input_shape = (64, 64, 3), activation = 'relu')) # 32-> is a kernal/filter. (3,3)->Size of each kernal. (64,64,3)->3 dimensional 64 means dimensional(size of the ).AND 3 means RGB\n",
    "\n",
    "# Step 2 - Pooling\n",
    "classifier.add(MaxPooling2D(pool_size = (2, 2)))\n",
    "\n",
    "# Step 3 - Flattening\n",
    "classifier.add(Flatten())\n",
    "\n",
    "# Step 4 - Full connection\n",
    "classifier.add(Dense(units = 128, activation = 'relu'))\n",
    "\n",
    "classifier.add(Dense(units = 1, activation = 'sigmoid'))\n",
    "\n",
    "# Compiling the CNN\n",
    "classifier.compile(optimizer = 'adam', loss = 'binary_crossentropy', metrics = ['accuracy'])\n"
   ]
  },
  {
   "cell_type": "code",
   "execution_count": 5,
   "metadata": {},
   "outputs": [
    {
     "data": {
      "text/plain": [
       "<keras.preprocessing.image.ImageDataGenerator at 0x1b9ef379f28>"
      ]
     },
     "execution_count": 5,
     "metadata": {},
     "output_type": "execute_result"
    }
   ],
   "source": [
    "# Part 2 - Fitting the CNN to the images\n",
    "\n",
    "from keras.preprocessing.image import ImageDataGenerator\n",
    "\n",
    "train_datagen = ImageDataGenerator(rescale = 1./255,\n",
    "                                   shear_range = 0.2,\n",
    "                                   zoom_range = 0.2,\n",
    "                                   horizontal_flip = True)\n",
    "train_datagen"
   ]
  },
  {
   "cell_type": "code",
   "execution_count": 6,
   "metadata": {},
   "outputs": [
    {
     "data": {
      "text/plain": [
       "<keras.preprocessing.image.ImageDataGenerator at 0x1b9ef379a20>"
      ]
     },
     "execution_count": 6,
     "metadata": {},
     "output_type": "execute_result"
    }
   ],
   "source": [
    "test_datagen = ImageDataGenerator(rescale = 1./255)\n",
    "test_datagen"
   ]
  },
  {
   "cell_type": "code",
   "execution_count": 7,
   "metadata": {},
   "outputs": [
    {
     "name": "stdout",
     "output_type": "stream",
     "text": [
      "Found 20 images belonging to 2 classes.\n"
     ]
    },
    {
     "data": {
      "text/plain": [
       "<keras.preprocessing.image.DirectoryIterator at 0x1b9dbec8828>"
      ]
     },
     "execution_count": 7,
     "metadata": {},
     "output_type": "execute_result"
    }
   ],
   "source": [
    "training_set = train_datagen.flow_from_directory('E:/Parent', target_size = (64, 64),\n",
    "                                                 batch_size=32,\n",
    "                                                 class_mode='binary')\n",
    "training_set"
   ]
  },
  {
   "cell_type": "code",
   "execution_count": 8,
   "metadata": {},
   "outputs": [
    {
     "name": "stdout",
     "output_type": "stream",
     "text": [
      "Found 20 images belonging to 2 classes.\n"
     ]
    },
    {
     "data": {
      "text/plain": [
       "<keras.preprocessing.image.DirectoryIterator at 0x1b9ef5f91d0>"
      ]
     },
     "execution_count": 8,
     "metadata": {},
     "output_type": "execute_result"
    }
   ],
   "source": [
    "test_set = test_datagen.flow_from_directory('E:/Parent',\n",
    "                                            target_size = (64, 64),\n",
    "                                            batch_size = 32,\n",
    "                                            class_mode = 'binary')\n",
    "test_set"
   ]
  },
  {
   "cell_type": "code",
   "execution_count": 9,
   "metadata": {},
   "outputs": [
    {
     "name": "stdout",
     "output_type": "stream",
     "text": [
      "WARNING:tensorflow:From c:\\users\\abhishek negi\\.conda\\envs\\tensorflow1\\lib\\site-packages\\keras\\backend\\tensorflow_backend.py:422: The name tf.global_variables is deprecated. Please use tf.compat.v1.global_variables instead.\n",
      "\n",
      "Epoch 1/1\n",
      "500/500 [==============================] - 1405s 3s/step - loss: 0.0156 - accuracy: 0.9947 - val_loss: 6.1338e-07 - val_accuracy: 1.0000\n"
     ]
    }
   ],
   "source": [
    "model = classifier.fit_generator(training_set,\n",
    "                         steps_per_epoch = 500,      \n",
    "                         epochs = 1,\n",
    "                         validation_data = test_set,    \n",
    "                         validation_steps = 100)"
   ]
  },
  {
   "cell_type": "code",
   "execution_count": 10,
   "metadata": {},
   "outputs": [
    {
     "name": "stdout",
     "output_type": "stream",
     "text": [
      "Saved model to disk\n"
     ]
    }
   ],
   "source": [
    "classifier.save(\"Simple CNN Binary Image.h5\")\n",
    "print(\"Saved model to disk\")"
   ]
  },
  {
   "cell_type": "code",
   "execution_count": 19,
   "metadata": {},
   "outputs": [
    {
     "data": {
      "image/png": "[encoded data removed]",
      "text/plain": [
       "<PIL.Image.Image image mode=RGB size=64x64 at 0x1B9F37EDE10>"
      ]
     },
     "execution_count": 19,
     "metadata": {},
     "output_type": "execute_result"
    }
   ],
   "source": [
    "# Part 3 - Making new predictions\n",
    "\n",
    "import numpy as np\n",
    "from keras.preprocessing import image\n",
    "test_image = image.load_img(r'C:\\Users\\Abhishek Negi\\Desktop\\Pic\\IMG-20190620-WA0044.jpg', target_size = (64, 64))\n",
    "test_image"
   ]
  },
  {
   "cell_type": "code",
   "execution_count": 20,
   "metadata": {},
   "outputs": [
    {
     "data": {
      "text/plain": [
       "array([[[175., 189., 202.],\n",
       "        [174., 188., 201.],\n",
       "        [171., 185., 198.],\n",
       "        ...,\n",
       "        [202., 204., 203.],\n",
       "        [192., 195., 200.],\n",
       "        [182., 189., 197.]],\n",
       "\n",
       "       [[176., 188., 202.],\n",
       "        [172., 185., 201.],\n",
       "        [171., 185., 198.],\n",
       "        ...,\n",
       "        [185., 189., 192.],\n",
       "        [178., 187., 196.],\n",
       "        [175., 185., 194.]],\n",
       "\n",
       "       [[173., 187., 200.],\n",
       "        [172., 184., 198.],\n",
       "        [168., 181., 197.],\n",
       "        ...,\n",
       "        [155., 172., 190.],\n",
       "        [135., 159., 183.],\n",
       "        [134., 160., 185.]],\n",
       "\n",
       "       ...,\n",
       "\n",
       "       [[194., 172., 135.],\n",
       "        [192., 172., 137.],\n",
       "        [183., 163., 128.],\n",
       "        ...,\n",
       "        [177., 162., 133.],\n",
       "        [167., 153., 126.],\n",
       "        [165., 151., 122.]],\n",
       "\n",
       "       [[192., 172., 137.],\n",
       "        [184., 161., 129.],\n",
       "        [188., 165., 133.],\n",
       "        ...,\n",
       "        [176., 162., 133.],\n",
       "        [170., 156., 129.],\n",
       "        [178., 164., 135.]],\n",
       "\n",
       "       [[180., 156., 118.],\n",
       "        [177., 153., 109.],\n",
       "        [175., 152., 102.],\n",
       "        ...,\n",
       "        [175., 160., 131.],\n",
       "        [171., 157., 128.],\n",
       "        [171., 158., 126.]]], dtype=float32)"
      ]
     },
     "execution_count": 20,
     "metadata": {},
     "output_type": "execute_result"
    }
   ],
   "source": [
    "test_image = image.img_to_array(test_image)\n",
    "test_image"
   ]
  },
  {
   "cell_type": "code",
   "execution_count": 21,
   "metadata": {},
   "outputs": [
    {
     "data": {
      "text/plain": [
       "array([[[[175., 189., 202.],\n",
       "         [174., 188., 201.],\n",
       "         [171., 185., 198.],\n",
       "         ...,\n",
       "         [202., 204., 203.],\n",
       "         [192., 195., 200.],\n",
       "         [182., 189., 197.]],\n",
       "\n",
       "        [[176., 188., 202.],\n",
       "         [172., 185., 201.],\n",
       "         [171., 185., 198.],\n",
       "         ...,\n",
       "         [185., 189., 192.],\n",
       "         [178., 187., 196.],\n",
       "         [175., 185., 194.]],\n",
       "\n",
       "        [[173., 187., 200.],\n",
       "         [172., 184., 198.],\n",
       "         [168., 181., 197.],\n",
       "         ...,\n",
       "         [155., 172., 190.],\n",
       "         [135., 159., 183.],\n",
       "         [134., 160., 185.]],\n",
       "\n",
       "        ...,\n",
       "\n",
       "        [[194., 172., 135.],\n",
       "         [192., 172., 137.],\n",
       "         [183., 163., 128.],\n",
       "         ...,\n",
       "         [177., 162., 133.],\n",
       "         [167., 153., 126.],\n",
       "         [165., 151., 122.]],\n",
       "\n",
       "        [[192., 172., 137.],\n",
       "         [184., 161., 129.],\n",
       "         [188., 165., 133.],\n",
       "         ...,\n",
       "         [176., 162., 133.],\n",
       "         [170., 156., 129.],\n",
       "         [178., 164., 135.]],\n",
       "\n",
       "        [[180., 156., 118.],\n",
       "         [177., 153., 109.],\n",
       "         [175., 152., 102.],\n",
       "         ...,\n",
       "         [175., 160., 131.],\n",
       "         [171., 157., 128.],\n",
       "         [171., 158., 126.]]]], dtype=float32)"
      ]
     },
     "execution_count": 21,
     "metadata": {},
     "output_type": "execute_result"
    }
   ],
   "source": [
    "test_image = np.expand_dims(test_image, axis = 0)\n",
    "test_image"
   ]
  },
  {
   "cell_type": "code",
   "execution_count": 22,
   "metadata": {},
   "outputs": [
    {
     "data": {
      "text/plain": [
       "array([[1.]], dtype=float32)"
      ]
     },
     "execution_count": 22,
     "metadata": {},
     "output_type": "execute_result"
    }
   ],
   "source": [
    "from keras.models import load_model\n",
    "model=load_model('Simple CNN Binary Image.h5')\n",
    "result= model.predict(test_image)\n",
    "result"
   ]
  },
  {
   "cell_type": "code",
   "execution_count": 23,
   "metadata": {},
   "outputs": [
    {
     "data": {
      "text/plain": [
       "{'Abhishek Negi': 0, 'Dorami': 1}"
      ]
     },
     "execution_count": 23,
     "metadata": {},
     "output_type": "execute_result"
    }
   ],
   "source": [
    "training_set.class_indices"
   ]
  },
  {
   "cell_type": "code",
   "execution_count": 24,
   "metadata": {},
   "outputs": [
    {
     "name": "stdout",
     "output_type": "stream",
     "text": [
      "Dorami\n"
     ]
    }
   ],
   "source": [
    "if result[0][0] == 1:\n",
    "    prediction = 'Dorami'\n",
    "    print(prediction)\n",
    "elif result[0][0]==0:\n",
    "    prediction = 'Abhishek Negi'\n",
    "    print(prediction)\n",
    "else:\n",
    "    print('Not Predicted')"
   ]
  },
  {
   "cell_type": "code",
   "execution_count": 25,
   "metadata": {},
   "outputs": [
    {
     "name": "stdout",
     "output_type": "stream",
     "text": [
      "Model: \"sequential_2\"\n",
      "_________________________________________________________________\n",
      "Layer (type)                 Output Shape              Param #   \n",
      "=================================================================\n",
      "conv2d_2 (Conv2D)            (None, 62, 62, 32)        896       \n",
      "_________________________________________________________________\n",
      "max_pooling2d_2 (MaxPooling2 (None, 31, 31, 32)        0         \n",
      "_________________________________________________________________\n",
      "flatten_2 (Flatten)          (None, 30752)             0         \n",
      "_________________________________________________________________\n",
      "dense_3 (Dense)              (None, 128)               3936384   \n",
      "_________________________________________________________________\n",
      "dense_4 (Dense)              (None, 1)                 129       \n",
      "=================================================================\n",
      "Total params: 3,937,409\n",
      "Trainable params: 3,937,409\n",
      "Non-trainable params: 0\n",
      "_________________________________________________________________\n"
     ]
    }
   ],
   "source": [
    "model.summary()"
   ]
  }
 ],
 "metadata": {
  "kernelspec": {
   "display_name": "Python 3",
   "language": "python",
   "name": "python3"
  },
  "language_info": {
   "codemirror_mode": {
    "name": "ipython",
    "version": 3
   },
   "file_extension": ".py",
   "mimetype": "text/x-python",
   "name": "python",
   "nbconvert_exporter": "python",
   "pygments_lexer": "ipython3",
   "version": "3.6.9"
  }
 },
 "nbformat": 4,
 "nbformat_minor": 4
}

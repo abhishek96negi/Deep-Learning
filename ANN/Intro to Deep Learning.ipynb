{
  "nbformat": 4,
  "nbformat_minor": 0,
  "metadata": {
    "kernelspec": {
      "display_name": "Python 3",
      "language": "python",
      "name": "python3"
    },
    "language_info": {
      "codemirror_mode": {
        "name": "ipython",
        "version": 3
      },
      "file_extension": ".py",
      "mimetype": "text/x-python",
      "name": "python",
      "nbconvert_exporter": "python",
      "pygments_lexer": "ipython3",
      "version": "3.7.6"
    },
    "colab": {
      "name": "Intro to Deep Learning.ipynb",
      "provenance": [],
      "include_colab_link": true
    }
  },
  "cells": [
    {
      "cell_type": "markdown",
      "metadata": {
        "id": "view-in-github",
        "colab_type": "text"
      },
      "source": [
        "<a href=\"https://colab.research.google.com/github/abhishek96negi/Deep-Learning/blob/master/Documentation/Intro%20to%20Deep%20Learning.ipynb\" target=\"_parent\"><img src=\"https://colab.research.google.com/assets/colab-badge.svg\" alt=\"Open In Colab\"/></a>"
      ]
    },
    {
      "cell_type": "markdown",
      "metadata": {
        "collapsed": true,
        "id": "WUuGi7YMMCxc",
        "colab_type": "text"
      },
      "source": [
        "# What is Deep Learning\n"
      ]
    },
    {
      "cell_type": "markdown",
      "metadata": {
        "id": "Z6W-Zx2NMCxd",
        "colab_type": "text"
      },
      "source": [
        "To understand what deep learning is, we first need to understand the relationship deep learning has with machine learning, neural networks, and artificial intelligence.\n",
        "\n",
        "\n",
        "The best way to think of this relationship is to visualize them as concentric circles:\n",
        "\n",
        "![DL](https://www.safaribooksonline.com/library/view/deep-learning/9781491924570/assets/dpln_0101.png)\n",
        "\n",
        "\n",
        "At the outer most ring you have artificial intelligence (using computers to reason). One layer inside of that is machine learning. With artificial neural networks and deep learning at the center.\n",
        "\n",
        "\n",
        "Broadly speaking, deep learning is a more approachable name for an artificial neural network. The “deep” in deep learning refers to the depth of the network. An artificial neural network can be very shallow.\n",
        "\n",
        "\n",
        "Neural networks are inspired by the structure of the cerebral cortex. At the basic level is the perceptron, the mathematical representation of a biological neuron. Like in the cerebral cortex, there can be several layers of interconnected perceptrons.\n",
        "\n",
        "\n",
        "The first layer is the input layer. Each node in this layer takes an input, and then passes its output as the input to each node in the next layer. There are generally no connections between nodes in the same layer and the last layer produces the outputs.\n",
        "\n",
        "\n",
        "We call the middle part the hidden layer. These neurons have no connection to the outside (e.g. input or output) and are only activated by nodes in the previous layer.\n",
        "\n",
        "![layer](http://neuralnetworksanddeeplearning.com/images/tikz11.png)\n",
        "\n",
        "\n",
        "Think of deep learning as the technique for learning in neural networks that utilizes multiple layers of abstraction to solve pattern recognition problems. In the 1980s, most neural networks were a single layer due to the cost of computation and availability of data.\n",
        "\n",
        "\n",
        "Machine learning is considered a branch or approach of Artificial intelligence, whereas deep learning is a specialized type of machine learning.\n",
        "\n",
        "\n",
        "Machine learning involves computer intelligence that doesn’t know the answers up front. Instead, the program will run against training data, verify the success of its attempts, and modify its approach accordingly. Machine learning typical requires a sophisticated education, spanning software engineering and computer science to statistical methods and linear algebra.\n",
        "\n",
        "\n",
        "There are two broad classes of machine learning methods:\n",
        "\n",
        "   * Supervised learning\n",
        "   * Unsupervised learning\n",
        "\n",
        "\n",
        "In supervised learning, a machine learning algorithm uses a labeled dataset to infer the desired outcome. This takes a lot of data and time, since the data needs to be labeled by hand. Supervised learning is great for classification and regression problems.\n",
        "\n",
        "For example, let’s say that we were running a company and want to determine the effect of bonuses on employee retention. If we had historical data – i.e. employee bonus amount and tenure – we could use supervised machine learning.\n",
        "\n",
        "With unsupervised learning, there aren’t any predefined or corresponding answers. The goal is to figure out the hidden patterns in the data. It’s usually used for clustering and associative tasks, like grouping customers by behavior. Amazon’s “customers who also bought…” recommendations are a type of associative task.\n",
        "\n",
        "While supervised learning can be useful, we often have to resort to unsupervised learning. Deep learning has proven to be an effective unsupervised learning technique.\n",
        "\n",
        "## Why is Deep Learning Important?\n",
        "\n",
        "![importance](https://image.slidesharecdn.com/andrew-ng-extract-oct2015-nonotes-151124104249-lva1-app6891/95/andrew-ng-chief-scientist-at-baidu-30-638.jpg?cb=1448361887)\n",
        "\n",
        "Computers have long had techniques for recognizing features inside of images. The results weren’t always great. Computer vision has been a main beneficiary of deep learning. Computer vision using deep learning now rivals humans on many image recognition tasks.\n",
        "\n",
        "\n",
        "Facebook has had great success with identifying faces in photographs by using deep learning. It’s not just a marginal improvement, but a game changer: “Asked whether two unfamiliar photos of faces show the same person, a human being will get it right 97.53 percent of the time. New software developed by researchers at Facebook can score 97.25 percent on the same challenge, regardless of variations in lighting or whether the person in the picture is directly facing the camera.”\n",
        "\n",
        "\n",
        "Speech recognition is a another area that’s felt deep learning’s impact. Spoken languages are so vast and ambiguous. Baidu – one of the leading search engines of China – has developed a voice recognition system that is faster and more accurate than humans at producing text on a mobile phone. In both English and Mandarin.\n",
        "\n",
        "\n",
        "What is particularly fascinating, is that generalizing the two languages didn’t require much additional design effort: “Historically, people viewed Chinese and English as two vastly different languages, and so there was a need to design very different features,” Andrew Ng says, chief scientist at Baidu. “The learning algorithms are now so general that you can just learn.”\n",
        "\n",
        "Google is now using deep learning to manage the energy at the company’s data centers. They’ve cut their energy needs for cooling by 40%. That translates to about a 15% improvement in power usage efficiency for the company and hundreds of millions of dollars in savings.\n",
        "\n",
        "## Deep Learning Microservices\n",
        "\n",
        "Here’s a quick overview of some deep learning use cases and microservices.\n",
        "\n",
        "Illustration Tagger. An implementation of Illustration2Vec, this microservice can tag an image with the safe, questionable, or explicit rating, the copyright, and general category tag to understand what’s in the image. DeepFilter is a style transfer service for applying artistic filters to images.\n",
        "\n",
        "The age classifier uses face detection to determine the age of a person in a photo. The Places 365 Classifier uses a pre-trained CNN and based on Places: An Image Database for Deep Scene Understanding B. Zhou, et al., 2016 to identify particular locations in images, such as a courtyard, drugstore, hotel room, glacier, mountain, etc. Lastly, there is InceptionNet, a direct implementation of Google’s InceptionNet using TensorFlow. It takes an image (such as a car), and returns the top 5 classes the model predicts are relevant to the image.\n",
        "\n",
        "## Open Source Deep Learning Frameworks\n",
        "\n",
        "Deep learnings is made accessible by a number of open source projects. Some of the most popular technologies include, but are not limited to, Deeplearning4j (DL4j), Theano, Torch, TensorFlow, and Caffe. The deciding factors on which one to use are the tech stack they target, and if they are low-level, academic, or application focused. Here’s an overview of each:\n",
        "\n",
        "DL4J:\n",
        "\n",
        "   * JVM-based\n",
        "   * Distrubted\n",
        "   * Integrates with Hadoop and Spark\n",
        "   \n",
        "   \n",
        "Theano:\n",
        "\n",
        "   * Very popular in Academia\n",
        "   * Fairly low level\n",
        "   * Interfaced with via Python and Numpy\n",
        "\n",
        "\n",
        "Torch:\n",
        "\n",
        "   * Lua based\n",
        "   * In house versions used by Facebook and Twitter\n",
        "   * Contains pretrained models\n",
        "\n",
        "\n",
        "TensorFlow:\n",
        "\n",
        "   * Google written successor to Theano\n",
        "   * Interfaced with via Python and Numpy\n",
        "   * Highly parallel\n",
        "   * Can be somewhat slow for certain problem sets\n",
        "\n",
        "\n",
        "\n",
        "Caffe:\n",
        "\n",
        "   * Not general purpose. Focuses on machine-vision problems\n",
        "   * Implemented in C++ and is very fast\n",
        "   * Not easily extensible\n",
        "   * Has a Python interface"
      ]
    },
    {
      "cell_type": "markdown",
      "metadata": {
        "id": "sXkY2s-MMCxe",
        "colab_type": "text"
      },
      "source": [
        "## McCulloch and Pitts Neuron\n",
        "\n",
        "In 1943, McCulloch and Pitts introduced a mathematical model of a neuron. It consisted of three components:\n",
        "\n",
        "1. A set of **weights** $w_i$ corresponding to synapses (inputs)\n",
        "2. An **adder** for summing input signals; analogous to cell membrane that collects charge\n",
        "3. An **activation function** for determining when the neuron fires, based on accumulated input\n",
        "\n",
        "The neuron model is shown schematically below. On the left are input nodes $\\{x_i\\}$, usually expressed as a vector. The strength with which the inputs are able to deliver the signal along the synapse is determined by their corresponding weights $\\{w_i\\}$. The adder then sums the inputs from all the synapses:\n",
        "\n",
        "$$h = \\sum_i w_i x_i$$\n",
        "\n",
        "The parameter $\\theta$ determines whether or not the neuron fires given a weighted input of $h$. If it fires, it returns a value $y=1$, otherwise $y=0$. For example, a simple **activation function** is using $\\theta$ as a simple fixed threshold:\n",
        "\n",
        "$$y = g(h) = \\left\\{ \\begin{array}{l}\n",
        "1, \\text{if } h \\gt \\theta \\\\\n",
        "0, \\text{if } h \\le \\theta\n",
        "\\end{array} \\right.$$\n",
        "\n",
        "this activation function may take any of several forms, such as a logistic function.\n",
        "\n",
        "![neuron](http://d.pr/i/9AMK+)"
      ]
    },
    {
      "cell_type": "markdown",
      "metadata": {
        "id": "8JlUnlLOMCxe",
        "colab_type": "text"
      },
      "source": [
        "A single neuron is not interesting, nor useful, from a learning perspective. It cannot learn; it simply receives inputs and either fires or not. Only when neurons are joined as a **network** can they perform useful work.\n",
        "\n",
        "Learning takes place by changing the weights of the connections in a neural network, and by changing the parameters of the activation functions of neurons.\n",
        "\n",
        "## Perceptron\n",
        "\n",
        "A collection of McCullough and Pitts neurons, along with a set of input nodes connected to the inputs via weighted edges, is a perceptron, the simplest neural network.\n",
        "\n",
        "Each neuron is independent of the others in the perceptron, in the sense that its behavior and performance depends only on its own weights and threshold values, and not of those for the other neurons. Though they share inputs, they operate independently.\n",
        "\n",
        "The number of inputs and outputs are determined by the data. Weights are stored as a `N x K` matrix, with N observations and K neurons, with $w_{ij}$ specifying the weight on the *i*th observation on the *j*th neuron.\n",
        "\n",
        "![perceptron](http://d.pr/i/4IWA+)"
      ]
    },
    {
      "cell_type": "markdown",
      "metadata": {
        "id": "VhIBR9VIMCxf",
        "colab_type": "text"
      },
      "source": [
        "In order to use the perceptron for statistical learning, we compare the outputs $y_j$ from each neuron to the obervation target $t_j$, and adjust the input weights when they do not correspond (*e.g.* if a neuron fires when it should not have).\n",
        "\n",
        "$$t_j - y_j$$\n",
        "\n",
        "We use this difference to update the weight $w_{ij}$, based on the input and a desired **learning rate**. This results in an update rule:\n",
        "\n",
        "$$w_{ij} \\leftarrow w_{ij} + \\eta (t_j - y_j) x_i$$\n",
        "\n",
        "After an incremental improvement, the perceptron is shown the training data again, resulting in another update. This is repeated until the performance no longer improves. Having a learning rate less than one results in a more stable learning rate, though this stability is traded off against having to expose the network to the data multiple times. Typical learning rates are in the 0.1-0.4 range.\n",
        "\n",
        "An additional input node is typically added to the perceptron model, which is a constant value (usually -1, 0, or 1) that acts analogously to an intercept in a regression model. This establishes a baseline input for the case when all inputs are zero.\n",
        "\n",
        "![bias](http://d.pr/i/105b5+)\n",
        "\n",
        "## Learning with Perceptrons\n",
        "\n",
        "1. Initialize weights $w_{ij}$ to small, random numbers.\n",
        "2. For each t in T iterations\n",
        "    * compute activation for each neuron *j* connected to each input vector *i*\n",
        "    $$y_j = g\\left( h=\\sum_i w_{ij} x_i \\right) = \\left\\{ \\begin{array}{l}\n",
        "1, \\text{if } h \\gt 0 \\\\\n",
        "0, \\text{if } h \\le 0\n",
        "\\end{array} \\right.$$\n",
        "    * update weights\n",
        "    $$w_{ij} \\leftarrow w_{ij} + \\eta (t_j - y_j) x_i$$\n",
        "\n",
        "\n",
        "This algorithm is $\\mathcal{O}(Tmn)$\n",
        "\n",
        "### Example: Logical functions\n",
        "\n",
        "Let's see how the perceptron learns by training it on a couple of of logical functions, AND and OR. For two variables `x1` and `x2`, the AND function returns 1 if both are true, or zero otherwise; the OR function returns 1 if either variable is true, or both. These functions can be expressed as simple lookup tables."
      ]
    },
    {
      "cell_type": "code",
      "metadata": {
        "id": "DVZyglSeMCxg",
        "colab_type": "code",
        "colab": {}
      },
      "source": [
        "%matplotlib inline\n",
        "import numpy as np\n",
        "import pandas as pd\n",
        "import matplotlib.pyplot as plt\n",
        "import seaborn as sns\n",
        "sns.set()\n",
        "from scipy import optimize\n",
        "from ipywidgets import *\n",
        "from IPython.display import SVG\n",
        "from sklearn import datasets\n"
      ],
      "execution_count": 3,
      "outputs": []
    },
    {
      "cell_type": "code",
      "metadata": {
        "id": "K_NMqGCXMCxm",
        "colab_type": "code",
        "colab": {
          "base_uri": "https://localhost:8080/",
          "height": 166
        },
        "outputId": "462402c0-3551-4c82-8b98-d7f939808e87"
      },
      "source": [
        "AND = pd.DataFrame({'x1': (0,0,1,1), 'x2': (0,1,0,1), 'y': (0,0,0,1)})\n",
        "AND"
      ],
      "execution_count": 4,
      "outputs": [
        {
          "output_type": "execute_result",
          "data": {
            "text/html": [
              "<div>\n",
              "<style scoped>\n",
              "    .dataframe tbody tr th:only-of-type {\n",
              "        vertical-align: middle;\n",
              "    }\n",
              "\n",
              "    .dataframe tbody tr th {\n",
              "        vertical-align: top;\n",
              "    }\n",
              "\n",
              "    .dataframe thead th {\n",
              "        text-align: right;\n",
              "    }\n",
              "</style>\n",
              "<table border=\"1\" class=\"dataframe\">\n",
              "  <thead>\n",
              "    <tr style=\"text-align: right;\">\n",
              "      <th></th>\n",
              "      <th>x1</th>\n",
              "      <th>x2</th>\n",
              "      <th>y</th>\n",
              "    </tr>\n",
              "  </thead>\n",
              "  <tbody>\n",
              "    <tr>\n",
              "      <th>0</th>\n",
              "      <td>0</td>\n",
              "      <td>0</td>\n",
              "      <td>0</td>\n",
              "    </tr>\n",
              "    <tr>\n",
              "      <th>1</th>\n",
              "      <td>0</td>\n",
              "      <td>1</td>\n",
              "      <td>0</td>\n",
              "    </tr>\n",
              "    <tr>\n",
              "      <th>2</th>\n",
              "      <td>1</td>\n",
              "      <td>0</td>\n",
              "      <td>0</td>\n",
              "    </tr>\n",
              "    <tr>\n",
              "      <th>3</th>\n",
              "      <td>1</td>\n",
              "      <td>1</td>\n",
              "      <td>1</td>\n",
              "    </tr>\n",
              "  </tbody>\n",
              "</table>\n",
              "</div>"
            ],
            "text/plain": [
              "   x1  x2  y\n",
              "0   0   0  0\n",
              "1   0   1  0\n",
              "2   1   0  0\n",
              "3   1   1  1"
            ]
          },
          "metadata": {
            "tags": []
          },
          "execution_count": 4
        }
      ]
    },
    {
      "cell_type": "markdown",
      "metadata": {
        "id": "b2qBZlEOMCxu",
        "colab_type": "text"
      },
      "source": [
        "First, we need to initialize weights to small, random values (can be positive and negative)."
      ]
    },
    {
      "cell_type": "code",
      "metadata": {
        "id": "YDCpI_lsMCxv",
        "colab_type": "code",
        "colab": {}
      },
      "source": [
        "w = np.random.randn(3)*1e-4"
      ],
      "execution_count": 5,
      "outputs": []
    },
    {
      "cell_type": "markdown",
      "metadata": {
        "id": "qJ7RfnOcMCxy",
        "colab_type": "text"
      },
      "source": [
        "Then, a simple activation function for calculating $g(h)$:"
      ]
    },
    {
      "cell_type": "code",
      "metadata": {
        "id": "xYsopGIwMCxz",
        "colab_type": "code",
        "colab": {}
      },
      "source": [
        "g = lambda inputs, weights: np.where(np.dot(inputs, weights)>0, 1, 0)"
      ],
      "execution_count": 6,
      "outputs": []
    },
    {
      "cell_type": "markdown",
      "metadata": {
        "id": "claJlrm8MCx3",
        "colab_type": "text"
      },
      "source": [
        "Finally, a training function that iterates the learning algorithm, returning the adapted weights."
      ]
    },
    {
      "cell_type": "code",
      "metadata": {
        "id": "R7fAyStUMCx3",
        "colab_type": "code",
        "colab": {}
      },
      "source": [
        "def train(inputs, targets, weights, eta, n_iterations):\n",
        "\n",
        "    # Add the inputs that match the bias node\n",
        "    inputs = np.c_[inputs, -np.ones((len(inputs), 1))]\n",
        "\n",
        "    for n in range(n_iterations):\n",
        "\n",
        "        activations = g(inputs, weights);\n",
        "        weights -= eta*np.dot(np.transpose(inputs), activations - targets)\n",
        "        \n",
        "    return(weights)"
      ],
      "execution_count": 7,
      "outputs": []
    },
    {
      "cell_type": "markdown",
      "metadata": {
        "id": "0xdgt45bMCx9",
        "colab_type": "text"
      },
      "source": [
        "Let's test it first on the AND function."
      ]
    },
    {
      "cell_type": "code",
      "metadata": {
        "id": "ZyHblAILMCx-",
        "colab_type": "code",
        "colab": {}
      },
      "source": [
        "inputs = AND[['x1','x2']]\n",
        "target = AND['y']\n",
        "\n",
        "w = train(inputs, target, w, 0.25, 10)"
      ],
      "execution_count": 8,
      "outputs": []
    },
    {
      "cell_type": "markdown",
      "metadata": {
        "id": "11KmK_poMCyC",
        "colab_type": "text"
      },
      "source": [
        "Checking the performance:"
      ]
    },
    {
      "cell_type": "code",
      "metadata": {
        "id": "KLNivfUOMCyC",
        "colab_type": "code",
        "colab": {
          "base_uri": "https://localhost:8080/",
          "height": 34
        },
        "outputId": "dcbafe09-fe8d-4770-a895-53df86642c58"
      },
      "source": [
        "g(np.c_[inputs, -np.ones((len(inputs), 1))], w)"
      ],
      "execution_count": 9,
      "outputs": [
        {
          "output_type": "execute_result",
          "data": {
            "text/plain": [
              "array([0, 0, 0, 1])"
            ]
          },
          "metadata": {
            "tags": []
          },
          "execution_count": 9
        }
      ]
    },
    {
      "cell_type": "markdown",
      "metadata": {
        "id": "qPL0bx_qMCyG",
        "colab_type": "text"
      },
      "source": [
        "Thus, it has learned the function perfectly. Now for OR:"
      ]
    },
    {
      "cell_type": "code",
      "metadata": {
        "id": "Muy9_CANMCyG",
        "colab_type": "code",
        "colab": {
          "base_uri": "https://localhost:8080/",
          "height": 166
        },
        "outputId": "2c340aad-c962-4a2b-de25-b14036f170fb"
      },
      "source": [
        "OR = pd.DataFrame({'x1': (0,0,1,1), 'x2': (0,1,0,1), 'y': (0,1,1,1)})\n",
        "OR"
      ],
      "execution_count": 10,
      "outputs": [
        {
          "output_type": "execute_result",
          "data": {
            "text/html": [
              "<div>\n",
              "<style scoped>\n",
              "    .dataframe tbody tr th:only-of-type {\n",
              "        vertical-align: middle;\n",
              "    }\n",
              "\n",
              "    .dataframe tbody tr th {\n",
              "        vertical-align: top;\n",
              "    }\n",
              "\n",
              "    .dataframe thead th {\n",
              "        text-align: right;\n",
              "    }\n",
              "</style>\n",
              "<table border=\"1\" class=\"dataframe\">\n",
              "  <thead>\n",
              "    <tr style=\"text-align: right;\">\n",
              "      <th></th>\n",
              "      <th>x1</th>\n",
              "      <th>x2</th>\n",
              "      <th>y</th>\n",
              "    </tr>\n",
              "  </thead>\n",
              "  <tbody>\n",
              "    <tr>\n",
              "      <th>0</th>\n",
              "      <td>0</td>\n",
              "      <td>0</td>\n",
              "      <td>0</td>\n",
              "    </tr>\n",
              "    <tr>\n",
              "      <th>1</th>\n",
              "      <td>0</td>\n",
              "      <td>1</td>\n",
              "      <td>1</td>\n",
              "    </tr>\n",
              "    <tr>\n",
              "      <th>2</th>\n",
              "      <td>1</td>\n",
              "      <td>0</td>\n",
              "      <td>1</td>\n",
              "    </tr>\n",
              "    <tr>\n",
              "      <th>3</th>\n",
              "      <td>1</td>\n",
              "      <td>1</td>\n",
              "      <td>1</td>\n",
              "    </tr>\n",
              "  </tbody>\n",
              "</table>\n",
              "</div>"
            ],
            "text/plain": [
              "   x1  x2  y\n",
              "0   0   0  0\n",
              "1   0   1  1\n",
              "2   1   0  1\n",
              "3   1   1  1"
            ]
          },
          "metadata": {
            "tags": []
          },
          "execution_count": 10
        }
      ]
    },
    {
      "cell_type": "code",
      "metadata": {
        "id": "6rYTptrKMCyJ",
        "colab_type": "code",
        "colab": {}
      },
      "source": [
        "w = np.random.randn(3)*1e-4"
      ],
      "execution_count": 11,
      "outputs": []
    },
    {
      "cell_type": "code",
      "metadata": {
        "id": "n8n8MJK6MCyO",
        "colab_type": "code",
        "colab": {}
      },
      "source": [
        "inputs = OR[['x1','x2']]\n",
        "target = OR['y']\n",
        "\n",
        "w = train(inputs, target, w, 0.25, 20)"
      ],
      "execution_count": 12,
      "outputs": []
    },
    {
      "cell_type": "code",
      "metadata": {
        "id": "b0Ny9eGzMCyU",
        "colab_type": "code",
        "colab": {
          "base_uri": "https://localhost:8080/",
          "height": 34
        },
        "outputId": "ed57ba42-4c75-4946-ccdf-7a8d8270fec7"
      },
      "source": [
        "g(np.c_[inputs, -np.ones((len(inputs), 1))], w)"
      ],
      "execution_count": 13,
      "outputs": [
        {
          "output_type": "execute_result",
          "data": {
            "text/plain": [
              "array([0, 1, 1, 1])"
            ]
          },
          "metadata": {
            "tags": []
          },
          "execution_count": 13
        }
      ]
    },
    {
      "cell_type": "markdown",
      "metadata": {
        "id": "R-EAJcQhMCyb",
        "colab_type": "text"
      },
      "source": [
        "Let's explore the problem graphically:"
      ]
    },
    {
      "cell_type": "code",
      "metadata": {
        "id": "mWFJ2iJNMCyc",
        "colab_type": "code",
        "colab": {
          "base_uri": "https://localhost:8080/",
          "height": 258
        },
        "outputId": "f37356d7-810c-4a32-fcbd-ceff28417f13"
      },
      "source": [
        "AND.plot(kind='scatter', x='x1', y='x2', c='y', s=50, colormap='winter')\n",
        "plt.plot(np.linspace(0,1.4), 1.5 - 1*np.linspace(0,1.4), 'k--');"
      ],
      "execution_count": 28,
      "outputs": [
        {
          "output_type": "display_data",
          "data": {
            "image/png": "[encoded data removed]",
            "text/plain": [
              "<Figure size 432x288 with 2 Axes>"
            ]
          },
          "metadata": {
            "tags": []
          }
        }
      ]
    },
    {
      "cell_type": "code",
      "metadata": {
        "id": "Lx30GsXgMCyf",
        "colab_type": "code",
        "colab": {
          "base_uri": "https://localhost:8080/",
          "height": 258
        },
        "outputId": "d5cbfe06-7367-4f6a-953b-2937782fe8e6"
      },
      "source": [
        "OR.plot(kind='scatter', x='x1', y='x2', c='y', s=50, colormap='winter')\n",
        "plt.plot(np.linspace(-.4,1), .5 - 1*np.linspace(-.4,1), 'k--');"
      ],
      "execution_count": 29,
      "outputs": [
        {
          "output_type": "display_data",
          "data": {
            "image/png": "[encoded data removed]",
            "text/plain": [
              "<Figure size 432x288 with 2 Axes>"
            ]
          },
          "metadata": {
            "tags": []
          }
        }
      ]
    },
    {
      "cell_type": "code",
      "metadata": {
        "id": "G6AZuyLqMCyj",
        "colab_type": "code",
        "colab": {
          "base_uri": "https://localhost:8080/",
          "height": 258
        },
        "outputId": "1c6d1262-407e-4ae6-922d-a4ab5ce6c808"
      },
      "source": [
        "XOR = pd.DataFrame({'x1': (0,0,1,1), 'x2': (0,1,0,1), 'y': (0,1,1,0)})\n",
        "\n",
        "XOR.plot(kind='scatter', x='x1', y='x2', c='y', s=50, colormap='winter');"
      ],
      "execution_count": 30,
      "outputs": [
        {
          "output_type": "display_data",
          "data": {
            "image/png": "[encoded data removed]",
            "text/plain": [
              "<Figure size 432x288 with 2 Axes>"
            ]
          },
          "metadata": {
            "tags": []
          }
        }
      ]
    },
    {
      "cell_type": "markdown",
      "metadata": {
        "id": "L9mqUpblMCym",
        "colab_type": "text"
      },
      "source": [
        "The perceptron tries to find a separating hyperplane for the two response classes. Namely, a set of weights that satisfies:\n",
        "\n",
        "$$\\mathbf{x_1}\\mathbf{w}^T=0$$\n",
        "\n",
        "and:\n",
        "\n",
        "$$\\mathbf{x_2}\\mathbf{w}^T=0$$\n",
        "\n",
        "Hence,\n",
        "\n",
        "$$\\begin{aligned}\n",
        "\\mathbf{x}_1\\mathbf{w}^T &= \\mathbf{x}_2\\mathbf{w}^T \\\\\n",
        "\\Rightarrow (\\mathbf{x}_1 - \\mathbf{x}_2) \\mathbf{w}^T &= 0\n",
        "\\end{aligned}$$\n",
        "\n",
        "This means that either the norms of $\\mathbf{x}_1 - \\mathbf{x}_2$ or $\\mathbf{w}$ are zero, or the cosine of the angle between them is equal to zero, due to the identity:\n",
        "\n",
        "$$\\mathbf{a}\\mathbf{b} = \\|a\\| \\|b\\| \\cos \\theta$$\n",
        "\n",
        "Since there is no reason for the norms to be zero in general, we need the two vectors to be at right angles to one another. So, we need a weight vector that is perpendicular to the decision boundary.\n",
        "\n",
        "Clearly, for the XOR function, the output classes are not linearly separable. So, the algorithm does not converge on an answer, but simply cycles through two incorrect solutions."
      ]
    },
    {
      "cell_type": "markdown",
      "metadata": {
        "id": "faMyZRLMMCyn",
        "colab_type": "text"
      },
      "source": [
        "## Multi-layer Perceptron\n",
        "\n",
        "The solution to fitting more complex (*i.e.* non-linear) models with neural networks is to use a more complex network that consists of more than just a single perceptron. The take-home message from the perceptron is that all of the learning happens by adapting the synapse weights until prediction is satisfactory. Hence, a reasonable guess at how to make a perceptron more complex is to simply **add more weights**.\n",
        "\n",
        "There are two ways to add complexity:\n",
        "\n",
        "1. Add backward connections, so that output neurons feed back to input nodes, resulting in a **recurrent network**\n",
        "2. Add neurons between the input nodes and the outputs, creating an additional (\"hidden\") layer to the network, resulting in a **multi-layer perceptron**\n",
        "\n",
        "The latter approach is more common in applications of neural networks.\n",
        "\n",
        "![multilayer](http://d.pr/i/14BS1+)\n",
        "\n",
        "How to train a multilayer network is not intuitive. Propagating the inputs forward over two layers is straightforward, since the outputs from the hidden layer can be used as inputs for the output layer. However, the process for updating the weights based on the prediction error is less clear, since it is difficult to know whether to change the weights on the input layer or on the hidden layer in order to improve the prediction.\n",
        "\n",
        "Updating a multi-layer perceptron (MLP) is a matter of: \n",
        "\n",
        "1. moving forward through the network, calculating outputs given inputs and current weight estimates\n",
        "2. moving backward updating weights according to the resulting error from forward propagation. \n",
        "\n",
        "In this sense, it is similar to a single-layer perceptron, except it has to be done twice, once for each layer.\n"
      ]
    },
    {
      "cell_type": "markdown",
      "metadata": {
        "id": "3TLc6CniMCyn",
        "colab_type": "text"
      },
      "source": [
        "# Backpropagation\n",
        "\n",
        "Backpropagation is a method for efficiently computing the gradient of the cost function of a neural network with respect to its parameters.  These partial derivatives can then be used to update the network's parameters using, e.g., gradient descent.  This may be the most common method for training neural networks.  Deriving backpropagation involves numerous clever applications of the chain rule for functions of vectors. \n",
        "\n",
        "\n",
        "![bp](https://theclevermachine.files.wordpress.com/2014/09/neural-net.png)"
      ]
    },
    {
      "cell_type": "markdown",
      "metadata": {
        "id": "0QL_axpjMCyo",
        "colab_type": "text"
      },
      "source": [
        "## Review: The chain rule\n",
        "\n",
        "The chain rule is a way to compute the derivative of a function whose variables are themselves functions of other variables.  If $C$ is a scalar-valued function of a scalar $z$ and $z$ is itself a scalar-valued function of another scalar variable $w$, then the chain rule states that\n",
        "$$\n",
        "\\frac{\\partial C}{\\partial w} = \\frac{\\partial C}{\\partial z}\\frac{\\partial z}{\\partial w}\n",
        "$$\n",
        "For scalar-valued functions of more than one variable, the chain rule essentially becomes additive.  In other words, if $C$ is a scalar-valued function of $N$ variables $z_1, \\ldots, z_N$, each of which is a function of some variable $w$, the chain rule states that\n",
        "$$\n",
        "\\frac{\\partial C}{\\partial w} = \\sum_{i = 1}^N \\frac{\\partial C}{\\partial z_i}\\frac{\\partial z_i}{\\partial w}\n",
        "$$"
      ]
    },
    {
      "cell_type": "markdown",
      "metadata": {
        "id": "p1m6HZUDMCyo",
        "colab_type": "text"
      },
      "source": [
        "## Notation\n",
        "\n",
        "In the following derivation, we'll use the following notation:\n",
        "\n",
        "$L$ - Number of layers in the network.\n",
        "\n",
        "$N^n$ - Dimensionality of layer $n \\in \\{0, \\ldots, L\\}$.  $N^0$ is the dimensionality of the input; $N^L$ is the dimensionality of the output.\n",
        "\n",
        "$W^m \\in \\mathbb{R}^{N^m \\times N^{m - 1}}$ - Weight matrix for layer $m \\in \\{1, \\ldots, L\\}$.  $W^m_{ij}$ is the weight between the $i^{th}$ unit in layer $m$ and the $j^{th}$ unit in layer $m - 1$.\n",
        "\n",
        "$b^m \\in \\mathbb{R}^{N^m}$ - Bias vector for layer $m$.\n",
        "\n",
        "$\\sigma^m$ - Nonlinear activation function of the units in layer $m$, applied elementwise.\n",
        "\n",
        "$z^m \\in \\mathbb{R}^{N^m}$ - Linear mix of the inputs to layer $m$, computed by $z^m = W^m a^{m - 1} + b^m$.\n",
        "\n",
        "$a^m \\in \\mathbb{R}^{N^m}$ - Activation of units in layer $m$, computed by $a^m = \\sigma^m(h^m) = \\sigma^m(W^m a^{m - 1} + b^m)$.  $a^L$ is the output of the network.  We define the special case $a^0$ as the input of the network.\n",
        "\n",
        "$y \\in \\mathbb{R}^{N^L}$ - Target output of the network.\n",
        "\n",
        "$C$ - Cost/error function of the network, which is a function of $a^L$ (the network output) and $y$ (treated as a constant)."
      ]
    },
    {
      "cell_type": "markdown",
      "metadata": {
        "id": "kQW4aiqLMCyr",
        "colab_type": "text"
      },
      "source": [
        "## Backpropagation in general\n",
        "\n",
        "In order to train the network using a gradient descent algorithm, we need to know the gradient of each of the parameters with respect to the cost/error function $C$; that is, we need to know $\\frac{\\partial C}{\\partial W^m}$ and $\\frac{\\partial C}{\\partial b^m}$.  It will be sufficient to derive an expression for these gradients in terms of the following terms, which we can compute based on the neural network's architecture:\n",
        "\n",
        "- $\\frac{\\partial C}{\\partial a^L}$: The derivative of the cost function with respect to its argument, the output of the network\n",
        "- $\\frac{\\partial a^m}{\\partial z^m}$: The derivative of the nonlinearity used in layer $m$ with respect to its argument\n",
        "\n",
        "To compute the gradient of our cost/error function $C$ to $W^m_{ij}$ (a single entry in the weight matrix of the layer $m$), we can first note that $C$ is a function of $a^L$, which is itself a function of the linear mix variables $z^m_k$, which are themselves functions of the weight matrices $W^m$ and biases $b^m$.  With this in mind, we can use the chain rule as follows:\n",
        "\n",
        "$$\\frac{\\partial C}{\\partial W^m_{ij}} = \\sum_{k = 1}^{N^m} \\frac{\\partial C}{\\partial z^m_k} \\frac{\\partial z^m_k}{\\partial W^m_{ij}}$$\n",
        "\n",
        "Note that by definition \n",
        "$$\n",
        "z^m_k = \\sum_{l = 1}^{N^m} W^m_{kl} a_l^{m - 1} + b^m_k\n",
        "$$\n",
        "It follows that $\\frac{\\partial z^m_k}{\\partial W^m_{ij}}$ will evaluate to zero when $i \\ne k$ because $z^m_k$ does not interact with any elements in $W^m$ except for those in the $k$<sup>th</sup> row, and we are only considering the entry $W^m_{ij}$.  When $i = k$, we have\n",
        "\n",
        "\\begin{align*}\n",
        "\\frac{\\partial z^m_i}{\\partial W^m_{ij}} &= \\frac{\\partial}{\\partial W^m_{ij}}\\left(\\sum_{l = 1}^{N^m} W^m_{il} a_l^{m - 1} + b^m_i\\right)\\\\\n",
        "&= a^{m - 1}_j\\\\\n",
        "\\rightarrow \\frac{\\partial z^m_k}{\\partial W^m_{ij}} &= \\begin{cases}\n",
        "0 & k \\ne i\\\\\n",
        "a^{m - 1}_j & k = i\n",
        "\\end{cases}\n",
        "\\end{align*}\n",
        "\n",
        "The fact that $\\frac{\\partial C}{\\partial a^m_k}$ is $0$ unless $k = i$ causes the summation above to collapse, giving\n",
        "\n",
        "$$\\frac{\\partial C}{\\partial W^m_{ij}} = \\frac{\\partial C}{\\partial z^m_i} a^{m - 1}_j$$\n",
        "\n",
        "or in vector form\n",
        "\n",
        "$$\\frac{\\partial C}{\\partial W^m} = \\frac{\\partial C}{\\partial z^m} a^{m - 1 \\top}$$\n",
        "\n",
        "Similarly for the bias variables $b^m$, we have\n",
        "\n",
        "$$\\frac{\\partial C}{\\partial b^m_i} = \\sum_{k = 1}^{N^m} \\frac{\\partial C}{\\partial z^m_k} \\frac{\\partial z^m_k}{\\partial b^m_i}$$\n",
        "\n",
        "As above, it follows that $\\frac{\\partial z^m_k}{\\partial b^m_i}$ will evaluate to zero when $i \\ne k$ because $z^m_k$ does not interact with any element in $b^m$ except $b^m_k$.  When $i = k$, we have\n",
        "\n",
        "\\begin{align*}\n",
        "\\frac{\\partial z^m_i}{\\partial b^m_i} &= \\frac{\\partial}{\\partial b^m_i}\\left(\\sum_{l = 1}^{N^m} W^m_{il} a_l^{m - 1} + b^m_i\\right)\\\\\n",
        "&= 1\\\\\n",
        "\\rightarrow \\frac{\\partial z^m_i}{\\partial b^m_i} &= \\begin{cases}\n",
        "0 & k \\ne i\\\\\n",
        "1 & k = i\n",
        "\\end{cases}\n",
        "\\end{align*}\n",
        "\n",
        "The summation also collapses to give\n",
        "\n",
        "$$\\frac{\\partial C}{\\partial b^m_i} = \\frac{\\partial C}{\\partial z^m_i}$$\n",
        "\n",
        "or in vector form\n",
        "\n",
        "$$\\frac{\\partial C}{\\partial b^m} = \\frac{\\partial C}{\\partial z^m}$$\n",
        "\n",
        "Now, we must compute $\\frac{\\partial C}{\\partial z^m_k}$.  For the final layer ($m = L$), this term is straightforward to compute using the chain rule:\n",
        "\n",
        "$$\n",
        "\\frac{\\partial C}{\\partial z^L_k} = \\frac{\\partial C}{\\partial a^L_k} \\frac{\\partial a^L_k}{\\partial z^L_k}\n",
        "$$\n",
        "\n",
        "or, in vector form\n",
        "\n",
        "$$\n",
        "\\frac{\\partial C}{\\partial z^L} = \\frac{\\partial C}{\\partial a^L} \\frac{\\partial a^L}{\\partial z^L}\n",
        "$$\n",
        "\n",
        "The first term $\\frac{\\partial C}{\\partial a^L}$ is just the derivative of the cost function with respect to its argument, whose form depends on the cost function chosen.  Similarly, $\\frac{\\partial a^m}{\\partial z^m}$ (for any layer $m$ includling $L$) is the derivative of the layer's nonlinearity with respect to its argument and will depend on the choice of nonlinearity.  For other layers, we again invoke the chain rule:\n",
        "\n",
        "\n",
        "\\begin{align*}\n",
        "\\frac{\\partial C}{\\partial z^m_k} &= \\frac{\\partial C}{\\partial a^m_k} \\frac{\\partial a^m_k}{\\partial z^m_k}\\\\\n",
        "&= \\left(\\sum_{l = 1}^{N^{m + 1}}\\frac{\\partial C}{\\partial z^{m + 1}_l}\\frac{\\partial z^{m + 1}_l}{\\partial a^m_k}\\right)\\frac{\\partial a^m_k}{\\partial z^m_k}\\\\\n",
        "&= \\left(\\sum_{l = 1}^{N^{m + 1}}\\frac{\\partial C}{\\partial z^{m + 1}_l}\\frac{\\partial}{\\partial a^m_k} \\left(\\sum_{h = 1}^{N^m} W^{m + 1}_{lh} a_h^m + b_l^{m + 1}\\right)\\right) \\frac{\\partial a^m_k}{\\partial z^m_k}\\\\\n",
        "&= \\left(\\sum_{l = 1}^{N^{m + 1}}\\frac{\\partial C}{\\partial z^{m + 1}_l} W^{m + 1}_{lk}\\right) \\frac{\\partial a^m_k}{\\partial z^m_k}\\\\\n",
        "&= \\left(\\sum_{l = 1}^{N^{m + 1}}W^{m + 1\\top}_{kl} \\frac{\\partial C}{\\partial z^{m + 1}_l}\\right) \\frac{\\partial a^m_k}{\\partial z^m_k}\\\\\n",
        "\\end{align*}\n",
        "\n",
        "where the last simplification was made because by convention $\\frac{\\partial C}{\\partial z^{m + 1}_l}$ is a column vector, allowing us to write the following vector form:\n",
        "\n",
        "$$\\frac{\\partial C}{\\partial z^m} = \\left(W^{m + 1\\top} \\frac{\\partial C}{\\partial z^{m + 1}}\\right) \\circ \\frac{\\partial a^m}{\\partial z^m}$$\n",
        "\n",
        "Note that we now have the ingredients to efficiently compute the gradient of the cost function with respect to the network's parameters:  First, we compute $\\frac{\\partial C}{\\partial z^L_k}$ based on the choice of cost function and nonlinearity.  Then, we recursively can compute $\\frac{\\partial C}{\\partial z^m}$ layer-by-layer based on the term $\\frac{\\partial C}{\\partial z^{m + 1}}$ computed from the previous layer and the nonlinearity of the layer (this is called the \"backward pass\")."
      ]
    },
    {
      "cell_type": "markdown",
      "metadata": {
        "id": "DNTIGBhmMCyr",
        "colab_type": "text"
      },
      "source": [
        "## Backpropagation in practice\n",
        "\n",
        "As discussed above, the exact form of the updates depends on both the chosen cost function and each layer's chosen nonlinearity.  The following two table lists the some common choices for nonlinearities and the required partial derivative for deriving the gradient for each layer:\n",
        "\n",
        "| Nonlinearity | $a^m = \\sigma^m(z^m)$ | $\\frac{\\partial a^m}{\\partial z^m}$ | Notes |\n",
        "|--------------|---|---|---|\n",
        "| Sigmoid      | $\\frac{1}{1 + e^{z^m}}$ | $\\sigma^m(z^m)(1 - \\sigma^m(z^m)) = a^m(1 - a^m)$ | \"Squashes\" any input to the range $[0, 1]$ |\n",
        "| Tanh         | $\\frac{e^{z^m} - e^{-z^m}}{e^{z^m} + e^{-z^m}}$ | $1 - (\\sigma^m(z^m))^2 = 1 - (a^m)^2$ | Equivalent, up to scaling, to the sigmoid function |\n",
        "| ReLU         | $\\max(0, z^m)$ | $0, z^m < 0;\\; 1, z^m \\ge 0$ | Commonly used in neural networks with many layers|\n",
        "\n",
        "Similarly, the following table collects some common cost functions and the partial derivative needed to compute the gradient for the final layer:\n",
        "\n",
        "| Cost Function | $C$                                  | $\\frac{\\partial C}{\\partial a^L}$ | Notes |\n",
        "|---------------|--------------------------------------|-----------------------------------|---|\n",
        "| Squared Error | $\\frac{1}{2}(y - a^L)^\\top(y - a^L)$ | $y - a^L$                         | Commonly used when the output is not constrained to a specific range |\n",
        "| Cross-Entropy | $(y - 1)\\log(1 - a^L) - y\\log(a^L)$  | $\\frac{a^L - y}{a^L(1 - a^L)}$    | Commonly used for binary classification tasks; can yield faster convergence |\n",
        "\n",
        "In practice, backpropagation proceeds in the following manner for each training sample:\n",
        "\n",
        "1. Forward pass: Given the network input $a^0$, compute $a^m$ recursively by\n",
        " $$a^1 = \\sigma^1(W^1 a^0 + b^1), \\ldots, a^L = \\sigma^L(W^L a^{L - 1} + b^L)$$\n",
        "1. Backward pass: Compute \n",
        "$$\\frac{\\partial C}{\\partial z^L} = \\frac{\\partial C}{\\partial a^L} \\frac{\\partial a^L}{\\partial z^L}$$\n",
        "for the final layer based on the tables above, then recursively compute\n",
        "$$\\frac{\\partial C}{\\partial z^m} = \\left(W^{m + 1\\top} \\frac{\\partial C}{\\partial z^{m + 1}}\\right) \\circ \\frac{\\partial a^m}{\\partial z^m}$$\n",
        "for all other layers.  Plug these values into \n",
        "$$\\frac{\\partial C}{\\partial W^m} = \\frac{\\partial C}{\\partial z^m_i} a^{m - 1 \\top}$$\n",
        "and\n",
        "$$\\frac{\\partial C}{\\partial b^m} = \\frac{\\partial C}{\\partial z^m}$$\n",
        "to obtain the updates.\n",
        "\n",
        "### Example: Sigmoid network with cross-entropy loss using gradient descent\n",
        "\n",
        "A common network architecture is one with fully connected layers where each layer's nonlinearity is the sigmoid function $a^m = \\frac{1}{1 + e^{z^m}}$ and the cost function is the cross-entropy loss $(y - 1)\\log(1 - a^L) - y\\log(a^L)$.  To compute the updates for gradient descent, we first compute (based on the tables above)\n",
        "\\begin{align*}\n",
        "\\frac{\\partial C}{\\partial z^L} &= \\frac{\\partial C}{\\partial a^L} \\frac{\\partial a^L}{\\partial z^L}\\\\\n",
        "&= \\left(\\frac{a^L - y}{a^L(1 - a^L)}\\right)a^L(1 - a^L)\\\\\n",
        "&= a^L - y\n",
        "\\end{align*}\n",
        "From here, we can compute\n",
        "\\begin{align*}\n",
        "\\frac{\\partial C}{\\partial z^{L - 1}} &= \\left(W^{L\\top} \\frac{\\partial C}{\\partial z^L} \\right) \\circ \\frac{\\partial a^{L - 1}}{\\partial z^{L - 1}}\\\\\n",
        "&= W^{L\\top} (a^L - y) \\circ a^{L - 1}(1 - a^{L - 1})\\\\\n",
        "\\frac{\\partial C}{\\partial z^{L - 2}} &= \\left(W^{L - 1\\top} \\frac{\\partial C}{\\partial z^{L - 1}} \\right) \\circ \\frac{\\partial a^{L - 2}}{\\partial z^{L - 2}}\\\\\n",
        "&= W^{L - 1\\top} \\left(W^{L\\top} (a^L - y) \\circ a^{L - 1}(1 - a^{L - 1})\\right) \\circ a^{L - 2}(1 - a^{L - 2})\n",
        "\\end{align*}\n",
        "and so on, until we have computed $\\frac{\\partial C}{\\partial z^m}$ for $m \\in \\{1, \\ldots, L\\}$.  This allows us to compute  $\\frac{\\partial C}{\\partial W^m_{ij}}$ and $\\frac{\\partial C}{\\partial b^m_i}$, e.g.\n",
        "\\begin{align*}\n",
        "\\frac{\\partial C}{\\partial W^L} &= \\frac{\\partial C}{\\partial z^L} a^{L - 1 \\top}\\\\\n",
        "&= (a^L - y)a^{L - 1\\top}\\\\\n",
        "\\frac{\\partial C}{\\partial W^{L - 1}} &= \\frac{\\partial C}{\\partial z^{L - 1}} a^{L - 2 \\top}\\\\\n",
        "&= W^{L\\top} (a^L - y) \\circ a^{L - 1}(1 - a^{L - 1}) a^{L - 2\\top}\n",
        "\\end{align*}\n",
        "and so on.  Standard gradient descent then updates each parameter as follows:\n",
        "$$W^m = W^m - \\lambda \\frac{\\partial C}{\\partial W^m}$$\n",
        "$$b^m = b^m - \\lambda \\frac{\\partial C}{\\partial b^m}$$\n",
        "where $\\lambda$ is the learning rate.  This process is repeated until some stopping criteria is met."
      ]
    },
    {
      "cell_type": "markdown",
      "metadata": {
        "id": "XaQrNQvYMCys",
        "colab_type": "text"
      },
      "source": [
        "## Toy Python example\n",
        "\n",
        "Due to the recursive nature of the backpropagation algorithm, it lends itself well to software implementations.  The following code implements a multi-layer perceptron which is trained using backpropagation with user-supplied nonlinearities, layer sizes, and cost function."
      ]
    },
    {
      "cell_type": "code",
      "metadata": {
        "id": "pSYY3GBaMCys",
        "colab_type": "code",
        "colab": {}
      },
      "source": [
        "# Ensure python 3 forward compatibility\n",
        "from __future__ import print_function\n",
        "import numpy as np\n",
        "\n",
        "def sigmoid(x):\n",
        "    return 1/(1 + np.exp(-x))\n",
        "\n",
        "class SigmoidLayer:\n",
        "    def __init__(self, n_input, n_output):\n",
        "        self.W = np.random.randn(n_output, n_input)\n",
        "        self.b = np.random.randn(n_output, 1)\n",
        "    def output(self, X):\n",
        "        if X.ndim == 1:\n",
        "            X = X.reshape(-1, 1)\n",
        "        return sigmoid(self.W.dot(X) + self.b)\n",
        "\n",
        "class SigmoidNetwork:\n",
        "\n",
        "    def __init__(self, layer_sizes):\n",
        "        '''\n",
        "        :parameters:\n",
        "            - layer_sizes : list of int\n",
        "                List of layer sizes of length L+1 (including the input dimensionality)\n",
        "        '''\n",
        "        self.layers = []\n",
        "        for n_input, n_output in zip(layer_sizes[:-1], layer_sizes[1:]):\n",
        "            self.layers.append(SigmoidLayer(n_input, n_output))\n",
        "    \n",
        "    def train(self, X, y, learning_rate=0.2):\n",
        "        X = np.array(X)\n",
        "        y = np.array(y)\n",
        "        if X.ndim == 1:\n",
        "            X = X.reshape(-1, 1)\n",
        "        if y.ndim == 1:\n",
        "            y = y.reshape(1, -1)\n",
        "        \n",
        "        # Forward pass - compute a^n for n in {0, ... L}\n",
        "        layer_outputs = [X]\n",
        "        for layer in self.layers:\n",
        "            layer_outputs.append(layer.output(layer_outputs[-1]))\n",
        "        \n",
        "        # Backward pass - compute \\partial C/\\partial z^m for m in {L, ..., 1}\n",
        "        cost_partials = [layer_outputs[-1] - y]\n",
        "        for layer, layer_output in zip(reversed(self.layers), reversed(layer_outputs[:-1])):\n",
        "            cost_partials.append(layer.W.T.dot(cost_partials[-1])*layer_output*(1 - layer_output))\n",
        "        cost_partials.reverse()\n",
        "        \n",
        "        # Compute weight gradient step\n",
        "        W_updates = []\n",
        "        for cost_partial, layer_output in zip(cost_partials[1:], layer_outputs[:-1]):\n",
        "            W_updates.append(cost_partial.dot(layer_output.T)/X.shape[1])\n",
        "        # and biases\n",
        "        b_updates = [cost_partial.mean(axis=1).reshape(-1, 1) for cost_partial in cost_partials[1:]]\n",
        "        \n",
        "        for W_update, b_update, layer in zip(W_updates, b_updates, self.layers):\n",
        "            layer.W -= W_update*learning_rate\n",
        "            layer.b -= b_update*learning_rate\n",
        "\n",
        "    def output(self, X):\n",
        "        a = np.array(X)\n",
        "        if a.ndim == 1:\n",
        "            a = a.reshape(-1, 1)\n",
        "        for layer in self.layers:\n",
        "            a = layer.output(a)\n",
        "        return a"
      ],
      "execution_count": null,
      "outputs": []
    },
    {
      "cell_type": "code",
      "metadata": {
        "id": "tFehbKfUMCyv",
        "colab_type": "code",
        "colab": {},
        "outputId": "e6cff973-0bbd-4e02-bbbd-023c38404d8f"
      },
      "source": [
        "nn = SigmoidNetwork([2, 2, 1])\n",
        "X = np.array([[0, 1, 0, 1], \n",
        "              [0, 0, 1, 1]])\n",
        "y = np.array([0, 1, 1, 0])\n",
        "for n in range(int(1e3)):\n",
        "    nn.train(X, y, learning_rate=1.)\n",
        "print(\"Input\\tOutput\\tQuantized\")\n",
        "for i in [[0, 0], [1, 0], [0, 1], [1, 1]]:\n",
        "    print(\"{}\\t{:.4f}\\t{}\".format(i, nn.output(i)[0, 0], 1*(nn.output(i)[0] > .5)))"
      ],
      "execution_count": null,
      "outputs": [
        {
          "output_type": "stream",
          "text": [
            "Input\tOutput\tQuantized\n",
            "[0, 0]\t0.5125\t[1]\n",
            "[1, 0]\t0.4927\t[0]\n",
            "[0, 1]\t0.9788\t[1]\n",
            "[1, 1]\t0.0161\t[0]\n"
          ],
          "name": "stdout"
        }
      ]
    },
    {
      "cell_type": "code",
      "metadata": {
        "id": "9gjtQYNNMCyy",
        "colab_type": "code",
        "colab": {},
        "outputId": "ae5e8df6-15e7-4ae8-ca2f-88e26ae060e5"
      },
      "source": [
        "logistic = lambda h, beta: 1./(1 + np.exp(-beta * h))\n",
        "\n",
        "@interact(beta=(-1, 25))\n",
        "def logistic_plot(beta=5):\n",
        "    hvals = np.linspace(-2, 2)\n",
        "    plt.plot(hvals, logistic(hvals, beta))"
      ],
      "execution_count": null,
      "outputs": [
        {
          "output_type": "display_data",
          "data": {
            "image/png": "[encoded data removed]",
            "text/plain": [
              "<matplotlib.figure.Figure at 0x7f1970f1bd68>"
            ]
          },
          "metadata": {
            "tags": []
          }
        }
      ]
    },
    {
      "cell_type": "markdown",
      "metadata": {
        "id": "BYV41TVXMCy0",
        "colab_type": "text"
      },
      "source": [
        "This has the advantage of having a simple derivative:\n",
        "\n",
        "$$\\frac{dg}{dh} = \\beta g(h)(1 - g(h))$$\n",
        "\n",
        "Alternatively, the hyperbolic tangent function is also sigmoid:\n",
        "\n",
        "$$g(h) = \\tanh(h) = \\frac{\\exp(h) - \\exp(-h)}{\\exp(h) + \\exp(-h)}$$"
      ]
    },
    {
      "cell_type": "code",
      "metadata": {
        "id": "h3EpsAMSMCy1",
        "colab_type": "code",
        "colab": {},
        "outputId": "590e004f-b008-474c-e32e-11c8b9d07d7f"
      },
      "source": [
        "hyperbolic_tangent = lambda h: (np.exp(h) - np.exp(-h)) / (np.exp(h) + np.exp(-h))\n",
        "\n",
        "@interact(theta=(-1, 25))\n",
        "def tanh_plot(theta=5):\n",
        "    hvals = np.linspace(-2, 2)\n",
        "    h = hvals*theta\n",
        "    plt.plot(hvals, hyperbolic_tangent(h))"
      ],
      "execution_count": null,
      "outputs": [
        {
          "output_type": "display_data",
          "data": {
            "image/png": "[encoded data removed]",
            "text/plain": [
              "<matplotlib.figure.Figure at 0x7f1970ef98d0>"
            ]
          },
          "metadata": {
            "tags": []
          }
        }
      ]
    },
    {
      "cell_type": "markdown",
      "metadata": {
        "id": "S63DtS4ZMCy5",
        "colab_type": "text"
      },
      "source": [
        "Gradient Descent\n",
        "---\n",
        "The simplest algorithm for iterative minimization of differentiable functions is known as just **gradient descent**.\n",
        "Recall that the gradient of a function is defined as the vector of partial derivatives:\n",
        "\n",
        "$$\\nabla f(x) =  [{\\partial{f}{x_1}, \\partial{f}{x_2}, \\ldots, \\partial{f}{x_n}}]$$\n",
        "\n",
        "and that the gradient of a function always points towards the direction of maximal increase at that point.\n",
        "\n",
        "Equivalently, it points *away* from the direction of maximum decrease - thus, if we start at any point, and keep moving in the direction of the negative gradient, we will eventually reach a local minimum.\n",
        "\n",
        "This simple insight leads to the Gradient Descent algorithm. Outlined algorithmically, it looks like this:\n",
        "\n",
        "1. Pick a point $x_0$ as your initial guess.\n",
        "2. Compute the gradient at your current guess:\n",
        "$v_i = \\nabla f(x_i)$\n",
        "3. Move by $\\alpha$ (your step size) in the direction of that gradient:\n",
        "$x_{i+1} = x_i + \\alpha v_i$\n",
        "4. Repeat steps 1-3 until your function is close enough to zero (until $f(x_i) < \\varepsilon$ for some small tolerance $\\varepsilon$)\n",
        "\n",
        "Note that the step size, $\\alpha$, is simply a parameter of the algorithm and has to be fixed in advance. \n",
        "\n",
        "![gd](http://ludovicarnold.altervista.org/wp-content/uploads/2015/01/gradient-trajectory.png)"
      ]
    },
    {
      "cell_type": "markdown",
      "metadata": {
        "id": "7x-SFS6yMCy7",
        "colab_type": "text"
      },
      "source": [
        "Notice that the hyperbolic tangent function asymptotes at -1 and 1, rather than 0 and 1, which is sometimes beneficial, and its derivative is simple:\n",
        "\n",
        "$$\\frac{d \\tanh(x)}{dx} = 1 - \\tanh^2(x)$$\n",
        "\n",
        "Performing gradient descent will allow us to change the weights in the direction that optimially reduces the error. The next trick will be to employ the **chain rule** to decompose how the error changes as a function of the input weights into the change in error as a function of changes in the inputs to the weights, mutliplied by the changes in input values as a function of changes in the weights. \n",
        "\n",
        "$$\\frac{\\partial E}{\\partial w} = \\frac{\\partial E}{\\partial h}\\frac{\\partial h}{\\partial w}$$\n",
        "\n",
        "This will allow us to write a function describing the activations of the output weights as a function of the activations of the hidden layer nodes and the output weights, which will allow us to propagate error backwards through the network.\n",
        "\n",
        "The second term in the chain rule simplifies to:\n",
        "\n",
        "$$\\begin{align}\n",
        "\\frac{\\partial h_k}{\\partial w_{jk}} &= \\frac{\\partial \\sum_l w_{lk} a_l}{\\partial w_{jk}}  \\\\\n",
        "&= \\sum_l \\frac{\\partial w_{lk} a_l}{\\partial w_{jk}} \\\\\n",
        "& = a_j\n",
        "\\end{align}$$\n",
        "\n",
        "where $a_j$ is the activation of the jth hidden layer neuron.\n",
        "\n",
        "For the first term in the chain rule above, we decompose it as well:\n",
        "\n",
        "$$\\frac{\\partial E}{\\partial h_k} = \\frac{\\partial E}{\\partial y_k}\\frac{\\partial y_k}{\\partial h_k} = \\frac{\\partial E}{\\partial g(h_k)}\\frac{\\partial g(h_k)}{\\partial h_k}$$\n",
        "\n",
        "The second term of this chain rule is just the derivative of the activation function, which we have chosen to have a conveneint form, while the first term simplifies to:\n",
        "\n",
        "$$\\frac{\\partial E}{\\partial g(h_k)} = \\frac{\\partial}{\\partial g(h_k)}\\left[\\frac{1}{2} \\sum_k (t_k - y_k)^2 \\right] = t_k - y_k$$\n",
        "\n",
        "Combining these, and assuming (for illustration) a logistic activiation function, we have the gradient:\n",
        "\n",
        "$$\\frac{\\partial E}{\\partial w} = (t_k - y_k) y_k (1-y_k) a_j$$\n",
        "\n",
        "Which ends up getting plugged into the weight update formula that we saw in the single-layer perceptron:\n",
        "\n",
        "$$w_{jk} \\leftarrow w_{jk} - \\eta (t_k - y_k) y_k (1-y_k) a_j$$\n",
        "\n",
        "Note that here we are *subtracting* the second term, rather than adding, since we are doing gradient descent.\n",
        "\n",
        "We can now outline the MLP learning algorithm:\n",
        "\n",
        "1. Initialize all $w_{jk}$ to small random values\n",
        "2. For each input vector, conduct forward propagation:\n",
        "    * compute activation of each neuron $j$ in hidden layer (here, sigmoid):\n",
        "    $$h_j = \\sum_i x_i v_{ij}$$\n",
        "    $$a_j = g(h_j) = \\frac{1}{1 + \\exp(-\\beta h_j)}$$\n",
        "    * when the output layer is reached, calculate outputs similarly:\n",
        "    $$h_k = \\sum_k a_j w_{jk}$$\n",
        "    $$y_k = g(h_k) = \\frac{1}{1 + \\exp(-\\beta h_k)}$$\n",
        "3. Calculate loss for resulting predictions:\n",
        "    * compute error at output:\n",
        "    $$\\delta_k = (t_k - y_k) y_k (1-y_k)$$\n",
        "4. Conduct backpropagation to get partial derivatives of cost with respect to weights, and use these to update weights:\n",
        "    * compute error of the hidden layers:\n",
        "    $$\\delta_{hj} = \\left[\\sum_k w_{jk} \\delta_k \\right] a_j(1-a_j)$$\n",
        "    * update output layer weights:\n",
        "    $$w_{jk} \\leftarrow w_{jk} - \\eta \\delta_k a_j$$\n",
        "    * update hidden layer weights:\n",
        "    $$v_{ij} \\leftarrow v_{ij} - \\eta \\delta_{hj} x_i$$\n",
        "    \n",
        "Return to (2) and iterate until learning completes. Best practice is to shuffle input vectors to avoid training in the same order.\n",
        "\n",
        "Its important to be aware that because gradient descent is a hill-climbing (or descending) algorithm, it is liable to be caught in local minima with respect to starting values. Therefore, it is worthwhile training several networks using a range of starting values for the weights, so that you have a better chance of discovering a globally-competitive solution.\n",
        "\n",
        "One useful performance enhancement for the MLP learning algorithm is the addition of **momentum** to the weight updates. This is just a coefficient on the previous weight update that increases the correlation between the current weight and the weight after the next update. This is particularly useful for complex models, where falling into local mimima is an issue; adding momentum will give some weight to the previous direction, making the resulting weights essentially a weighted average of the two directions. Adding momentum, along with a smaller learning rate, usually results in a more stable algorithm with quicker convergence. When we use momentum, we lose this guarantee, but this is generally seen as a small price to pay for the improvement momentum usually gives.\n",
        "\n",
        "A weight update with momentum looks like this:\n",
        "\n",
        "$$w_{jk} \\leftarrow w_{jk} - \\eta \\delta_k a_j + \\alpha \\Delta w_{jk}^{t-1}$$\n",
        "\n",
        "where $\\alpha$ is the momentum (regularization) parameter and $\\Delta w_{jk}^{t-1}$ the update from the previous iteration.\n",
        "\n",
        "The multi-layer pereptron is implemented below in the `MLP` class. The implementation uses the scikit-learn interface, so it is uses in the same way as other supervised learning algorithms in that package."
      ]
    }
  ]
}